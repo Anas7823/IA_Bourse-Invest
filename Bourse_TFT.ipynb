{
  "cells": [
    {
      "cell_type": "markdown",
      "metadata": {},
      "source": [
        "# ==============================================================================\n",
        "# NOTEBOOK COMPLET : AGENT DE TRADING DQN ASSISTÉ PAR UN MODÈLE TFT\n",
        "# ==============================================================================\n",
        "\n",
        "# ------------------------------------------------------------------------------\n",
        "# SECTION 0 : INSTALLATION ET IMPORTATION DES BIBLIOTHÈQUES\n",
        "# ------------------------------------------------------------------------------\n",
        "# On installe les bibliothèques nécessaires, y compris celles pour le TFT\n"
      ]
    },
    {
      "cell_type": "code",
      "execution_count": 8,
      "metadata": {},
      "outputs": [
        {
          "name": "stdout",
          "output_type": "stream",
          "text": [
            "Requirement already satisfied: pandas in c:\\users\\anase\\documents\\master\\intelligence artificelle machine learning\\tp\\bourse\\.venv\\lib\\site-packages (2.3.3)\n",
            "Requirement already satisfied: numpy>=1.26.0 in c:\\users\\anase\\documents\\master\\intelligence artificelle machine learning\\tp\\bourse\\.venv\\lib\\site-packages (from pandas) (2.2.6)\n",
            "Requirement already satisfied: python-dateutil>=2.8.2 in c:\\users\\anase\\documents\\master\\intelligence artificelle machine learning\\tp\\bourse\\.venv\\lib\\site-packages (from pandas) (2.9.0.post0)\n",
            "Requirement already satisfied: pytz>=2020.1 in c:\\users\\anase\\documents\\master\\intelligence artificelle machine learning\\tp\\bourse\\.venv\\lib\\site-packages (from pandas) (2025.2)\n",
            "Requirement already satisfied: tzdata>=2022.7 in c:\\users\\anase\\documents\\master\\intelligence artificelle machine learning\\tp\\bourse\\.venv\\lib\\site-packages (from pandas) (2025.2)\n",
            "Requirement already satisfied: six>=1.5 in c:\\users\\anase\\documents\\master\\intelligence artificelle machine learning\\tp\\bourse\\.venv\\lib\\site-packages (from python-dateutil>=2.8.2->pandas) (1.17.0)\n"
          ]
        },
        {
          "name": "stderr",
          "output_type": "stream",
          "text": [
            "\n",
            "[notice] A new release of pip is available: 25.0.1 -> 25.2\n",
            "[notice] To update, run: python.exe -m pip install --upgrade pip\n"
          ]
        },
        {
          "name": "stdout",
          "output_type": "stream",
          "text": [
            "Requirement already satisfied: numpy in c:\\users\\anase\\documents\\master\\intelligence artificelle machine learning\\tp\\bourse\\.venv\\lib\\site-packages (2.2.6)\n"
          ]
        },
        {
          "name": "stderr",
          "output_type": "stream",
          "text": [
            "\n",
            "[notice] A new release of pip is available: 25.0.1 -> 25.2\n",
            "[notice] To update, run: python.exe -m pip install --upgrade pip\n"
          ]
        },
        {
          "name": "stdout",
          "output_type": "stream",
          "text": [
            "Requirement already satisfied: scikit-learn in c:\\users\\anase\\documents\\master\\intelligence artificelle machine learning\\tp\\bourse\\.venv\\lib\\site-packages (1.7.2)\n",
            "Requirement already satisfied: numpy>=1.22.0 in c:\\users\\anase\\documents\\master\\intelligence artificelle machine learning\\tp\\bourse\\.venv\\lib\\site-packages (from scikit-learn) (2.2.6)\n",
            "Requirement already satisfied: scipy>=1.8.0 in c:\\users\\anase\\documents\\master\\intelligence artificelle machine learning\\tp\\bourse\\.venv\\lib\\site-packages (from scikit-learn) (1.16.2)\n",
            "Requirement already satisfied: joblib>=1.2.0 in c:\\users\\anase\\documents\\master\\intelligence artificelle machine learning\\tp\\bourse\\.venv\\lib\\site-packages (from scikit-learn) (1.5.2)\n",
            "Requirement already satisfied: threadpoolctl>=3.1.0 in c:\\users\\anase\\documents\\master\\intelligence artificelle machine learning\\tp\\bourse\\.venv\\lib\\site-packages (from scikit-learn) (3.6.0)\n"
          ]
        },
        {
          "name": "stderr",
          "output_type": "stream",
          "text": [
            "\n",
            "[notice] A new release of pip is available: 25.0.1 -> 25.2\n",
            "[notice] To update, run: python.exe -m pip install --upgrade pip\n"
          ]
        },
        {
          "name": "stdout",
          "output_type": "stream",
          "text": [
            "Requirement already satisfied: tensorflow in c:\\users\\anase\\documents\\master\\intelligence artificelle machine learning\\tp\\bourse\\.venv\\lib\\site-packages (2.20.0)\n",
            "Requirement already satisfied: absl-py>=1.0.0 in c:\\users\\anase\\documents\\master\\intelligence artificelle machine learning\\tp\\bourse\\.venv\\lib\\site-packages (from tensorflow) (2.3.1)\n",
            "Requirement already satisfied: astunparse>=1.6.0 in c:\\users\\anase\\documents\\master\\intelligence artificelle machine learning\\tp\\bourse\\.venv\\lib\\site-packages (from tensorflow) (1.6.3)\n",
            "Requirement already satisfied: flatbuffers>=24.3.25 in c:\\users\\anase\\documents\\master\\intelligence artificelle machine learning\\tp\\bourse\\.venv\\lib\\site-packages (from tensorflow) (25.9.23)\n",
            "Requirement already satisfied: gast!=0.5.0,!=0.5.1,!=0.5.2,>=0.2.1 in c:\\users\\anase\\documents\\master\\intelligence artificelle machine learning\\tp\\bourse\\.venv\\lib\\site-packages (from tensorflow) (0.6.0)\n",
            "Requirement already satisfied: google_pasta>=0.1.1 in c:\\users\\anase\\documents\\master\\intelligence artificelle machine learning\\tp\\bourse\\.venv\\lib\\site-packages (from tensorflow) (0.2.0)\n",
            "Requirement already satisfied: libclang>=13.0.0 in c:\\users\\anase\\documents\\master\\intelligence artificelle machine learning\\tp\\bourse\\.venv\\lib\\site-packages (from tensorflow) (18.1.1)\n",
            "Requirement already satisfied: opt_einsum>=2.3.2 in c:\\users\\anase\\documents\\master\\intelligence artificelle machine learning\\tp\\bourse\\.venv\\lib\\site-packages (from tensorflow) (3.4.0)\n",
            "Requirement already satisfied: packaging in c:\\users\\anase\\documents\\master\\intelligence artificelle machine learning\\tp\\bourse\\.venv\\lib\\site-packages (from tensorflow) (25.0)\n",
            "Requirement already satisfied: protobuf>=5.28.0 in c:\\users\\anase\\documents\\master\\intelligence artificelle machine learning\\tp\\bourse\\.venv\\lib\\site-packages (from tensorflow) (6.33.0)\n",
            "Requirement already satisfied: requests<3,>=2.21.0 in c:\\users\\anase\\documents\\master\\intelligence artificelle machine learning\\tp\\bourse\\.venv\\lib\\site-packages (from tensorflow) (2.32.5)\n",
            "Requirement already satisfied: setuptools in c:\\users\\anase\\documents\\master\\intelligence artificelle machine learning\\tp\\bourse\\.venv\\lib\\site-packages (from tensorflow) (80.9.0)\n",
            "Requirement already satisfied: six>=1.12.0 in c:\\users\\anase\\documents\\master\\intelligence artificelle machine learning\\tp\\bourse\\.venv\\lib\\site-packages (from tensorflow) (1.17.0)\n",
            "Requirement already satisfied: termcolor>=1.1.0 in c:\\users\\anase\\documents\\master\\intelligence artificelle machine learning\\tp\\bourse\\.venv\\lib\\site-packages (from tensorflow) (3.1.0)\n",
            "Requirement already satisfied: typing_extensions>=3.6.6 in c:\\users\\anase\\documents\\master\\intelligence artificelle machine learning\\tp\\bourse\\.venv\\lib\\site-packages (from tensorflow) (4.15.0)\n",
            "Requirement already satisfied: wrapt>=1.11.0 in c:\\users\\anase\\documents\\master\\intelligence artificelle machine learning\\tp\\bourse\\.venv\\lib\\site-packages (from tensorflow) (1.17.3)\n",
            "Requirement already satisfied: grpcio<2.0,>=1.24.3 in c:\\users\\anase\\documents\\master\\intelligence artificelle machine learning\\tp\\bourse\\.venv\\lib\\site-packages (from tensorflow) (1.75.1)\n",
            "Requirement already satisfied: tensorboard~=2.20.0 in c:\\users\\anase\\documents\\master\\intelligence artificelle machine learning\\tp\\bourse\\.venv\\lib\\site-packages (from tensorflow) (2.20.0)\n",
            "Requirement already satisfied: keras>=3.10.0 in c:\\users\\anase\\documents\\master\\intelligence artificelle machine learning\\tp\\bourse\\.venv\\lib\\site-packages (from tensorflow) (3.11.3)\n",
            "Requirement already satisfied: numpy>=1.26.0 in c:\\users\\anase\\documents\\master\\intelligence artificelle machine learning\\tp\\bourse\\.venv\\lib\\site-packages (from tensorflow) (2.2.6)\n",
            "Requirement already satisfied: h5py>=3.11.0 in c:\\users\\anase\\documents\\master\\intelligence artificelle machine learning\\tp\\bourse\\.venv\\lib\\site-packages (from tensorflow) (3.15.1)\n",
            "Requirement already satisfied: ml_dtypes<1.0.0,>=0.5.1 in c:\\users\\anase\\documents\\master\\intelligence artificelle machine learning\\tp\\bourse\\.venv\\lib\\site-packages (from tensorflow) (0.5.3)\n",
            "Requirement already satisfied: wheel<1.0,>=0.23.0 in c:\\users\\anase\\documents\\master\\intelligence artificelle machine learning\\tp\\bourse\\.venv\\lib\\site-packages (from astunparse>=1.6.0->tensorflow) (0.45.1)\n",
            "Requirement already satisfied: rich in c:\\users\\anase\\documents\\master\\intelligence artificelle machine learning\\tp\\bourse\\.venv\\lib\\site-packages (from keras>=3.10.0->tensorflow) (14.2.0)\n",
            "Requirement already satisfied: namex in c:\\users\\anase\\documents\\master\\intelligence artificelle machine learning\\tp\\bourse\\.venv\\lib\\site-packages (from keras>=3.10.0->tensorflow) (0.1.0)\n",
            "Requirement already satisfied: optree in c:\\users\\anase\\documents\\master\\intelligence artificelle machine learning\\tp\\bourse\\.venv\\lib\\site-packages (from keras>=3.10.0->tensorflow) (0.17.0)\n",
            "Requirement already satisfied: charset_normalizer<4,>=2 in c:\\users\\anase\\documents\\master\\intelligence artificelle machine learning\\tp\\bourse\\.venv\\lib\\site-packages (from requests<3,>=2.21.0->tensorflow) (3.4.4)\n",
            "Requirement already satisfied: idna<4,>=2.5 in c:\\users\\anase\\documents\\master\\intelligence artificelle machine learning\\tp\\bourse\\.venv\\lib\\site-packages (from requests<3,>=2.21.0->tensorflow) (3.11)\n",
            "Requirement already satisfied: urllib3<3,>=1.21.1 in c:\\users\\anase\\documents\\master\\intelligence artificelle machine learning\\tp\\bourse\\.venv\\lib\\site-packages (from requests<3,>=2.21.0->tensorflow) (2.5.0)\n",
            "Requirement already satisfied: certifi>=2017.4.17 in c:\\users\\anase\\documents\\master\\intelligence artificelle machine learning\\tp\\bourse\\.venv\\lib\\site-packages (from requests<3,>=2.21.0->tensorflow) (2025.10.5)\n",
            "Requirement already satisfied: markdown>=2.6.8 in c:\\users\\anase\\documents\\master\\intelligence artificelle machine learning\\tp\\bourse\\.venv\\lib\\site-packages (from tensorboard~=2.20.0->tensorflow) (3.9)\n",
            "Requirement already satisfied: pillow in c:\\users\\anase\\documents\\master\\intelligence artificelle machine learning\\tp\\bourse\\.venv\\lib\\site-packages (from tensorboard~=2.20.0->tensorflow) (12.0.0)\n",
            "Requirement already satisfied: tensorboard-data-server<0.8.0,>=0.7.0 in c:\\users\\anase\\documents\\master\\intelligence artificelle machine learning\\tp\\bourse\\.venv\\lib\\site-packages (from tensorboard~=2.20.0->tensorflow) (0.7.2)\n",
            "Requirement already satisfied: werkzeug>=1.0.1 in c:\\users\\anase\\documents\\master\\intelligence artificelle machine learning\\tp\\bourse\\.venv\\lib\\site-packages (from tensorboard~=2.20.0->tensorflow) (3.1.3)\n",
            "Requirement already satisfied: MarkupSafe>=2.1.1 in c:\\users\\anase\\documents\\master\\intelligence artificelle machine learning\\tp\\bourse\\.venv\\lib\\site-packages (from werkzeug>=1.0.1->tensorboard~=2.20.0->tensorflow) (3.0.3)\n",
            "Requirement already satisfied: markdown-it-py>=2.2.0 in c:\\users\\anase\\documents\\master\\intelligence artificelle machine learning\\tp\\bourse\\.venv\\lib\\site-packages (from rich->keras>=3.10.0->tensorflow) (4.0.0)\n",
            "Requirement already satisfied: pygments<3.0.0,>=2.13.0 in c:\\users\\anase\\documents\\master\\intelligence artificelle machine learning\\tp\\bourse\\.venv\\lib\\site-packages (from rich->keras>=3.10.0->tensorflow) (2.19.2)\n",
            "Requirement already satisfied: mdurl~=0.1 in c:\\users\\anase\\documents\\master\\intelligence artificelle machine learning\\tp\\bourse\\.venv\\lib\\site-packages (from markdown-it-py>=2.2.0->rich->keras>=3.10.0->tensorflow) (0.1.2)\n"
          ]
        },
        {
          "name": "stderr",
          "output_type": "stream",
          "text": [
            "\n",
            "[notice] A new release of pip is available: 25.0.1 -> 25.2\n",
            "[notice] To update, run: python.exe -m pip install --upgrade pip\n"
          ]
        },
        {
          "name": "stdout",
          "output_type": "stream",
          "text": [
            "Requirement already satisfied: gymnasium in c:\\users\\anase\\documents\\master\\intelligence artificelle machine learning\\tp\\bourse\\.venv\\lib\\site-packages (1.2.1)\n",
            "Requirement already satisfied: numpy>=1.21.0 in c:\\users\\anase\\documents\\master\\intelligence artificelle machine learning\\tp\\bourse\\.venv\\lib\\site-packages (from gymnasium) (2.2.6)\n",
            "Requirement already satisfied: cloudpickle>=1.2.0 in c:\\users\\anase\\documents\\master\\intelligence artificelle machine learning\\tp\\bourse\\.venv\\lib\\site-packages (from gymnasium) (3.1.1)\n",
            "Requirement already satisfied: typing-extensions>=4.3.0 in c:\\users\\anase\\documents\\master\\intelligence artificelle machine learning\\tp\\bourse\\.venv\\lib\\site-packages (from gymnasium) (4.15.0)\n",
            "Requirement already satisfied: farama-notifications>=0.0.1 in c:\\users\\anase\\documents\\master\\intelligence artificelle machine learning\\tp\\bourse\\.venv\\lib\\site-packages (from gymnasium) (0.0.4)\n"
          ]
        },
        {
          "name": "stderr",
          "output_type": "stream",
          "text": [
            "\n",
            "[notice] A new release of pip is available: 25.0.1 -> 25.2\n",
            "[notice] To update, run: python.exe -m pip install --upgrade pip\n"
          ]
        },
        {
          "name": "stdout",
          "output_type": "stream",
          "text": [
            "Requirement already satisfied: stable-baselines3 in c:\\users\\anase\\documents\\master\\intelligence artificelle machine learning\\tp\\bourse\\.venv\\lib\\site-packages (2.7.0)\n",
            "Requirement already satisfied: gymnasium<1.3.0,>=0.29.1 in c:\\users\\anase\\documents\\master\\intelligence artificelle machine learning\\tp\\bourse\\.venv\\lib\\site-packages (from stable-baselines3) (1.2.1)\n",
            "Requirement already satisfied: numpy<3.0,>=1.20 in c:\\users\\anase\\documents\\master\\intelligence artificelle machine learning\\tp\\bourse\\.venv\\lib\\site-packages (from stable-baselines3) (2.2.6)\n",
            "Requirement already satisfied: torch<3.0,>=2.3 in c:\\users\\anase\\documents\\master\\intelligence artificelle machine learning\\tp\\bourse\\.venv\\lib\\site-packages (from stable-baselines3) (2.9.0)\n",
            "Requirement already satisfied: cloudpickle in c:\\users\\anase\\documents\\master\\intelligence artificelle machine learning\\tp\\bourse\\.venv\\lib\\site-packages (from stable-baselines3) (3.1.1)\n",
            "Requirement already satisfied: pandas in c:\\users\\anase\\documents\\master\\intelligence artificelle machine learning\\tp\\bourse\\.venv\\lib\\site-packages (from stable-baselines3) (2.3.3)\n",
            "Requirement already satisfied: matplotlib in c:\\users\\anase\\documents\\master\\intelligence artificelle machine learning\\tp\\bourse\\.venv\\lib\\site-packages (from stable-baselines3) (3.10.7)\n",
            "Requirement already satisfied: typing-extensions>=4.3.0 in c:\\users\\anase\\documents\\master\\intelligence artificelle machine learning\\tp\\bourse\\.venv\\lib\\site-packages (from gymnasium<1.3.0,>=0.29.1->stable-baselines3) (4.15.0)\n",
            "Requirement already satisfied: farama-notifications>=0.0.1 in c:\\users\\anase\\documents\\master\\intelligence artificelle machine learning\\tp\\bourse\\.venv\\lib\\site-packages (from gymnasium<1.3.0,>=0.29.1->stable-baselines3) (0.0.4)\n",
            "Requirement already satisfied: filelock in c:\\users\\anase\\documents\\master\\intelligence artificelle machine learning\\tp\\bourse\\.venv\\lib\\site-packages (from torch<3.0,>=2.3->stable-baselines3) (3.20.0)\n",
            "Requirement already satisfied: sympy>=1.13.3 in c:\\users\\anase\\documents\\master\\intelligence artificelle machine learning\\tp\\bourse\\.venv\\lib\\site-packages (from torch<3.0,>=2.3->stable-baselines3) (1.14.0)\n",
            "Requirement already satisfied: networkx>=2.5.1 in c:\\users\\anase\\documents\\master\\intelligence artificelle machine learning\\tp\\bourse\\.venv\\lib\\site-packages (from torch<3.0,>=2.3->stable-baselines3) (3.5)\n",
            "Requirement already satisfied: jinja2 in c:\\users\\anase\\documents\\master\\intelligence artificelle machine learning\\tp\\bourse\\.venv\\lib\\site-packages (from torch<3.0,>=2.3->stable-baselines3) (3.1.6)\n",
            "Requirement already satisfied: fsspec>=0.8.5 in c:\\users\\anase\\documents\\master\\intelligence artificelle machine learning\\tp\\bourse\\.venv\\lib\\site-packages (from torch<3.0,>=2.3->stable-baselines3) (2025.9.0)\n",
            "Requirement already satisfied: setuptools in c:\\users\\anase\\documents\\master\\intelligence artificelle machine learning\\tp\\bourse\\.venv\\lib\\site-packages (from torch<3.0,>=2.3->stable-baselines3) (80.9.0)\n",
            "Requirement already satisfied: contourpy>=1.0.1 in c:\\users\\anase\\documents\\master\\intelligence artificelle machine learning\\tp\\bourse\\.venv\\lib\\site-packages (from matplotlib->stable-baselines3) (1.3.3)\n",
            "Requirement already satisfied: cycler>=0.10 in c:\\users\\anase\\documents\\master\\intelligence artificelle machine learning\\tp\\bourse\\.venv\\lib\\site-packages (from matplotlib->stable-baselines3) (0.12.1)\n",
            "Requirement already satisfied: fonttools>=4.22.0 in c:\\users\\anase\\documents\\master\\intelligence artificelle machine learning\\tp\\bourse\\.venv\\lib\\site-packages (from matplotlib->stable-baselines3) (4.60.1)\n",
            "Requirement already satisfied: kiwisolver>=1.3.1 in c:\\users\\anase\\documents\\master\\intelligence artificelle machine learning\\tp\\bourse\\.venv\\lib\\site-packages (from matplotlib->stable-baselines3) (1.4.9)\n",
            "Requirement already satisfied: packaging>=20.0 in c:\\users\\anase\\documents\\master\\intelligence artificelle machine learning\\tp\\bourse\\.venv\\lib\\site-packages (from matplotlib->stable-baselines3) (25.0)\n",
            "Requirement already satisfied: pillow>=8 in c:\\users\\anase\\documents\\master\\intelligence artificelle machine learning\\tp\\bourse\\.venv\\lib\\site-packages (from matplotlib->stable-baselines3) (12.0.0)\n",
            "Requirement already satisfied: pyparsing>=3 in c:\\users\\anase\\documents\\master\\intelligence artificelle machine learning\\tp\\bourse\\.venv\\lib\\site-packages (from matplotlib->stable-baselines3) (3.2.5)\n",
            "Requirement already satisfied: python-dateutil>=2.7 in c:\\users\\anase\\documents\\master\\intelligence artificelle machine learning\\tp\\bourse\\.venv\\lib\\site-packages (from matplotlib->stable-baselines3) (2.9.0.post0)\n",
            "Requirement already satisfied: pytz>=2020.1 in c:\\users\\anase\\documents\\master\\intelligence artificelle machine learning\\tp\\bourse\\.venv\\lib\\site-packages (from pandas->stable-baselines3) (2025.2)\n",
            "Requirement already satisfied: tzdata>=2022.7 in c:\\users\\anase\\documents\\master\\intelligence artificelle machine learning\\tp\\bourse\\.venv\\lib\\site-packages (from pandas->stable-baselines3) (2025.2)\n",
            "Requirement already satisfied: six>=1.5 in c:\\users\\anase\\documents\\master\\intelligence artificelle machine learning\\tp\\bourse\\.venv\\lib\\site-packages (from python-dateutil>=2.7->matplotlib->stable-baselines3) (1.17.0)\n",
            "Requirement already satisfied: mpmath<1.4,>=1.1.0 in c:\\users\\anase\\documents\\master\\intelligence artificelle machine learning\\tp\\bourse\\.venv\\lib\\site-packages (from sympy>=1.13.3->torch<3.0,>=2.3->stable-baselines3) (1.3.0)\n",
            "Requirement already satisfied: MarkupSafe>=2.0 in c:\\users\\anase\\documents\\master\\intelligence artificelle machine learning\\tp\\bourse\\.venv\\lib\\site-packages (from jinja2->torch<3.0,>=2.3->stable-baselines3) (3.0.3)\n"
          ]
        },
        {
          "name": "stderr",
          "output_type": "stream",
          "text": [
            "\n",
            "[notice] A new release of pip is available: 25.0.1 -> 25.2\n",
            "[notice] To update, run: python.exe -m pip install --upgrade pip\n"
          ]
        },
        {
          "name": "stdout",
          "output_type": "stream",
          "text": [
            "Requirement already satisfied: pytorch-forecasting in c:\\users\\anase\\documents\\master\\intelligence artificelle machine learning\\tp\\bourse\\.venv\\lib\\site-packages (1.5.0)\n",
            "Requirement already satisfied: numpy<=3.0.0 in c:\\users\\anase\\documents\\master\\intelligence artificelle machine learning\\tp\\bourse\\.venv\\lib\\site-packages (from pytorch-forecasting) (2.2.6)\n",
            "Requirement already satisfied: torch!=2.0.1,<3.0.0,>=2.0.0 in c:\\users\\anase\\documents\\master\\intelligence artificelle machine learning\\tp\\bourse\\.venv\\lib\\site-packages (from pytorch-forecasting) (2.9.0)\n",
            "Requirement already satisfied: lightning<3.0.0,>=2.0.0 in c:\\users\\anase\\documents\\master\\intelligence artificelle machine learning\\tp\\bourse\\.venv\\lib\\site-packages (from pytorch-forecasting) (2.5.5)\n",
            "Requirement already satisfied: scipy<2.0,>=1.8 in c:\\users\\anase\\documents\\master\\intelligence artificelle machine learning\\tp\\bourse\\.venv\\lib\\site-packages (from pytorch-forecasting) (1.16.2)\n",
            "Requirement already satisfied: pandas<3.0.0,>=1.3.0 in c:\\users\\anase\\documents\\master\\intelligence artificelle machine learning\\tp\\bourse\\.venv\\lib\\site-packages (from pytorch-forecasting) (2.3.3)\n",
            "Requirement already satisfied: scikit-learn<2.0,>=1.2 in c:\\users\\anase\\documents\\master\\intelligence artificelle machine learning\\tp\\bourse\\.venv\\lib\\site-packages (from pytorch-forecasting) (1.7.2)\n",
            "Requirement already satisfied: PyYAML<8.0,>5.4 in c:\\users\\anase\\documents\\master\\intelligence artificelle machine learning\\tp\\bourse\\.venv\\lib\\site-packages (from lightning<3.0.0,>=2.0.0->pytorch-forecasting) (6.0.3)\n",
            "Requirement already satisfied: fsspec<2027.0,>=2022.5.0 in c:\\users\\anase\\documents\\master\\intelligence artificelle machine learning\\tp\\bourse\\.venv\\lib\\site-packages (from fsspec[http]<2027.0,>=2022.5.0->lightning<3.0.0,>=2.0.0->pytorch-forecasting) (2025.9.0)\n",
            "Requirement already satisfied: lightning-utilities<2.0,>=0.10.0 in c:\\users\\anase\\documents\\master\\intelligence artificelle machine learning\\tp\\bourse\\.venv\\lib\\site-packages (from lightning<3.0.0,>=2.0.0->pytorch-forecasting) (0.15.2)\n",
            "Requirement already satisfied: packaging<27.0,>=20.0 in c:\\users\\anase\\documents\\master\\intelligence artificelle machine learning\\tp\\bourse\\.venv\\lib\\site-packages (from lightning<3.0.0,>=2.0.0->pytorch-forecasting) (25.0)\n",
            "Requirement already satisfied: torchmetrics<3.0,>0.7.0 in c:\\users\\anase\\documents\\master\\intelligence artificelle machine learning\\tp\\bourse\\.venv\\lib\\site-packages (from lightning<3.0.0,>=2.0.0->pytorch-forecasting) (1.8.2)\n",
            "Requirement already satisfied: tqdm<6.0,>=4.57.0 in c:\\users\\anase\\documents\\master\\intelligence artificelle machine learning\\tp\\bourse\\.venv\\lib\\site-packages (from lightning<3.0.0,>=2.0.0->pytorch-forecasting) (4.67.1)\n",
            "Requirement already satisfied: typing-extensions<6.0,>4.5.0 in c:\\users\\anase\\documents\\master\\intelligence artificelle machine learning\\tp\\bourse\\.venv\\lib\\site-packages (from lightning<3.0.0,>=2.0.0->pytorch-forecasting) (4.15.0)\n",
            "Requirement already satisfied: pytorch-lightning in c:\\users\\anase\\documents\\master\\intelligence artificelle machine learning\\tp\\bourse\\.venv\\lib\\site-packages (from lightning<3.0.0,>=2.0.0->pytorch-forecasting) (2.5.5)\n",
            "Requirement already satisfied: python-dateutil>=2.8.2 in c:\\users\\anase\\documents\\master\\intelligence artificelle machine learning\\tp\\bourse\\.venv\\lib\\site-packages (from pandas<3.0.0,>=1.3.0->pytorch-forecasting) (2.9.0.post0)\n",
            "Requirement already satisfied: pytz>=2020.1 in c:\\users\\anase\\documents\\master\\intelligence artificelle machine learning\\tp\\bourse\\.venv\\lib\\site-packages (from pandas<3.0.0,>=1.3.0->pytorch-forecasting) (2025.2)\n",
            "Requirement already satisfied: tzdata>=2022.7 in c:\\users\\anase\\documents\\master\\intelligence artificelle machine learning\\tp\\bourse\\.venv\\lib\\site-packages (from pandas<3.0.0,>=1.3.0->pytorch-forecasting) (2025.2)\n",
            "Requirement already satisfied: joblib>=1.2.0 in c:\\users\\anase\\documents\\master\\intelligence artificelle machine learning\\tp\\bourse\\.venv\\lib\\site-packages (from scikit-learn<2.0,>=1.2->pytorch-forecasting) (1.5.2)\n",
            "Requirement already satisfied: threadpoolctl>=3.1.0 in c:\\users\\anase\\documents\\master\\intelligence artificelle machine learning\\tp\\bourse\\.venv\\lib\\site-packages (from scikit-learn<2.0,>=1.2->pytorch-forecasting) (3.6.0)\n",
            "Requirement already satisfied: filelock in c:\\users\\anase\\documents\\master\\intelligence artificelle machine learning\\tp\\bourse\\.venv\\lib\\site-packages (from torch!=2.0.1,<3.0.0,>=2.0.0->pytorch-forecasting) (3.20.0)\n",
            "Requirement already satisfied: sympy>=1.13.3 in c:\\users\\anase\\documents\\master\\intelligence artificelle machine learning\\tp\\bourse\\.venv\\lib\\site-packages (from torch!=2.0.1,<3.0.0,>=2.0.0->pytorch-forecasting) (1.14.0)\n",
            "Requirement already satisfied: networkx>=2.5.1 in c:\\users\\anase\\documents\\master\\intelligence artificelle machine learning\\tp\\bourse\\.venv\\lib\\site-packages (from torch!=2.0.1,<3.0.0,>=2.0.0->pytorch-forecasting) (3.5)\n",
            "Requirement already satisfied: jinja2 in c:\\users\\anase\\documents\\master\\intelligence artificelle machine learning\\tp\\bourse\\.venv\\lib\\site-packages (from torch!=2.0.1,<3.0.0,>=2.0.0->pytorch-forecasting) (3.1.6)\n",
            "Requirement already satisfied: setuptools in c:\\users\\anase\\documents\\master\\intelligence artificelle machine learning\\tp\\bourse\\.venv\\lib\\site-packages (from torch!=2.0.1,<3.0.0,>=2.0.0->pytorch-forecasting) (80.9.0)\n",
            "Requirement already satisfied: aiohttp!=4.0.0a0,!=4.0.0a1 in c:\\users\\anase\\documents\\master\\intelligence artificelle machine learning\\tp\\bourse\\.venv\\lib\\site-packages (from fsspec[http]<2027.0,>=2022.5.0->lightning<3.0.0,>=2.0.0->pytorch-forecasting) (3.13.0)\n",
            "Requirement already satisfied: six>=1.5 in c:\\users\\anase\\documents\\master\\intelligence artificelle machine learning\\tp\\bourse\\.venv\\lib\\site-packages (from python-dateutil>=2.8.2->pandas<3.0.0,>=1.3.0->pytorch-forecasting) (1.17.0)\n",
            "Requirement already satisfied: mpmath<1.4,>=1.1.0 in c:\\users\\anase\\documents\\master\\intelligence artificelle machine learning\\tp\\bourse\\.venv\\lib\\site-packages (from sympy>=1.13.3->torch!=2.0.1,<3.0.0,>=2.0.0->pytorch-forecasting) (1.3.0)\n",
            "Requirement already satisfied: colorama in c:\\users\\anase\\documents\\master\\intelligence artificelle machine learning\\tp\\bourse\\.venv\\lib\\site-packages (from tqdm<6.0,>=4.57.0->lightning<3.0.0,>=2.0.0->pytorch-forecasting) (0.4.6)\n",
            "Requirement already satisfied: MarkupSafe>=2.0 in c:\\users\\anase\\documents\\master\\intelligence artificelle machine learning\\tp\\bourse\\.venv\\lib\\site-packages (from jinja2->torch!=2.0.1,<3.0.0,>=2.0.0->pytorch-forecasting) (3.0.3)\n",
            "Requirement already satisfied: aiohappyeyeballs>=2.5.0 in c:\\users\\anase\\documents\\master\\intelligence artificelle machine learning\\tp\\bourse\\.venv\\lib\\site-packages (from aiohttp!=4.0.0a0,!=4.0.0a1->fsspec[http]<2027.0,>=2022.5.0->lightning<3.0.0,>=2.0.0->pytorch-forecasting) (2.6.1)\n",
            "Requirement already satisfied: aiosignal>=1.4.0 in c:\\users\\anase\\documents\\master\\intelligence artificelle machine learning\\tp\\bourse\\.venv\\lib\\site-packages (from aiohttp!=4.0.0a0,!=4.0.0a1->fsspec[http]<2027.0,>=2022.5.0->lightning<3.0.0,>=2.0.0->pytorch-forecasting) (1.4.0)\n",
            "Requirement already satisfied: attrs>=17.3.0 in c:\\users\\anase\\documents\\master\\intelligence artificelle machine learning\\tp\\bourse\\.venv\\lib\\site-packages (from aiohttp!=4.0.0a0,!=4.0.0a1->fsspec[http]<2027.0,>=2022.5.0->lightning<3.0.0,>=2.0.0->pytorch-forecasting) (25.4.0)\n",
            "Requirement already satisfied: frozenlist>=1.1.1 in c:\\users\\anase\\documents\\master\\intelligence artificelle machine learning\\tp\\bourse\\.venv\\lib\\site-packages (from aiohttp!=4.0.0a0,!=4.0.0a1->fsspec[http]<2027.0,>=2022.5.0->lightning<3.0.0,>=2.0.0->pytorch-forecasting) (1.8.0)\n",
            "Requirement already satisfied: multidict<7.0,>=4.5 in c:\\users\\anase\\documents\\master\\intelligence artificelle machine learning\\tp\\bourse\\.venv\\lib\\site-packages (from aiohttp!=4.0.0a0,!=4.0.0a1->fsspec[http]<2027.0,>=2022.5.0->lightning<3.0.0,>=2.0.0->pytorch-forecasting) (6.7.0)\n",
            "Requirement already satisfied: propcache>=0.2.0 in c:\\users\\anase\\documents\\master\\intelligence artificelle machine learning\\tp\\bourse\\.venv\\lib\\site-packages (from aiohttp!=4.0.0a0,!=4.0.0a1->fsspec[http]<2027.0,>=2022.5.0->lightning<3.0.0,>=2.0.0->pytorch-forecasting) (0.4.1)\n",
            "Requirement already satisfied: yarl<2.0,>=1.17.0 in c:\\users\\anase\\documents\\master\\intelligence artificelle machine learning\\tp\\bourse\\.venv\\lib\\site-packages (from aiohttp!=4.0.0a0,!=4.0.0a1->fsspec[http]<2027.0,>=2022.5.0->lightning<3.0.0,>=2.0.0->pytorch-forecasting) (1.22.0)\n",
            "Requirement already satisfied: idna>=2.0 in c:\\users\\anase\\documents\\master\\intelligence artificelle machine learning\\tp\\bourse\\.venv\\lib\\site-packages (from yarl<2.0,>=1.17.0->aiohttp!=4.0.0a0,!=4.0.0a1->fsspec[http]<2027.0,>=2022.5.0->lightning<3.0.0,>=2.0.0->pytorch-forecasting) (3.11)\n"
          ]
        },
        {
          "name": "stderr",
          "output_type": "stream",
          "text": [
            "\n",
            "[notice] A new release of pip is available: 25.0.1 -> 25.2\n",
            "[notice] To update, run: python.exe -m pip install --upgrade pip\n"
          ]
        },
        {
          "name": "stdout",
          "output_type": "stream",
          "text": [
            "Requirement already satisfied: pandas-ta in c:\\users\\anase\\documents\\master\\intelligence artificelle machine learning\\tp\\bourse\\.venv\\lib\\site-packages (0.4.71b0)\n",
            "Requirement already satisfied: numba==0.61.2 in c:\\users\\anase\\documents\\master\\intelligence artificelle machine learning\\tp\\bourse\\.venv\\lib\\site-packages (from pandas-ta) (0.61.2)\n",
            "Requirement already satisfied: numpy>=2.2.6 in c:\\users\\anase\\documents\\master\\intelligence artificelle machine learning\\tp\\bourse\\.venv\\lib\\site-packages (from pandas-ta) (2.2.6)\n",
            "Requirement already satisfied: pandas>=2.3.2 in c:\\users\\anase\\documents\\master\\intelligence artificelle machine learning\\tp\\bourse\\.venv\\lib\\site-packages (from pandas-ta) (2.3.3)\n",
            "Requirement already satisfied: tqdm>=4.67.1 in c:\\users\\anase\\documents\\master\\intelligence artificelle machine learning\\tp\\bourse\\.venv\\lib\\site-packages (from pandas-ta) (4.67.1)\n",
            "Requirement already satisfied: llvmlite<0.45,>=0.44.0dev0 in c:\\users\\anase\\documents\\master\\intelligence artificelle machine learning\\tp\\bourse\\.venv\\lib\\site-packages (from numba==0.61.2->pandas-ta) (0.44.0)\n",
            "Requirement already satisfied: python-dateutil>=2.8.2 in c:\\users\\anase\\documents\\master\\intelligence artificelle machine learning\\tp\\bourse\\.venv\\lib\\site-packages (from pandas>=2.3.2->pandas-ta) (2.9.0.post0)\n",
            "Requirement already satisfied: pytz>=2020.1 in c:\\users\\anase\\documents\\master\\intelligence artificelle machine learning\\tp\\bourse\\.venv\\lib\\site-packages (from pandas>=2.3.2->pandas-ta) (2025.2)\n",
            "Requirement already satisfied: tzdata>=2022.7 in c:\\users\\anase\\documents\\master\\intelligence artificelle machine learning\\tp\\bourse\\.venv\\lib\\site-packages (from pandas>=2.3.2->pandas-ta) (2025.2)\n",
            "Requirement already satisfied: colorama in c:\\users\\anase\\documents\\master\\intelligence artificelle machine learning\\tp\\bourse\\.venv\\lib\\site-packages (from tqdm>=4.67.1->pandas-ta) (0.4.6)\n",
            "Requirement already satisfied: six>=1.5 in c:\\users\\anase\\documents\\master\\intelligence artificelle machine learning\\tp\\bourse\\.venv\\lib\\site-packages (from python-dateutil>=2.8.2->pandas>=2.3.2->pandas-ta) (1.17.0)\n"
          ]
        },
        {
          "name": "stderr",
          "output_type": "stream",
          "text": [
            "\n",
            "[notice] A new release of pip is available: 25.0.1 -> 25.2\n",
            "[notice] To update, run: python.exe -m pip install --upgrade pip\n",
            "\n",
            "[notice] A new release of pip is available: 25.0.1 -> 25.2\n",
            "[notice] To update, run: python.exe -m pip install --upgrade pip\n"
          ]
        }
      ],
      "source": [
        "!pip install pandas\n",
        "!pip install numpy \n",
        "!pip install scikit-learn \n",
        "!pip install tensorflow \n",
        "!pip install gymnasium \n",
        "!pip install stable-baselines3 \n",
        "!pip install pytorch-forecasting \n",
        "!pip install pandas-ta \n",
        "!pip install pytorch-lightning -q"
      ]
    },
    {
      "cell_type": "markdown",
      "metadata": {},
      "source": [
        "## Import"
      ]
    },
    {
      "cell_type": "code",
      "execution_count": 9,
      "metadata": {},
      "outputs": [],
      "source": [
        "import pandas as pd\n",
        "import numpy as np\n",
        "import glob\n",
        "import random\n",
        "from pathlib import Path\n",
        "import matplotlib.pyplot as plt\n",
        "from sklearn.preprocessing import MinMaxScaler\n",
        "from sklearn.utils import shuffle\n",
        "\n",
        "# Bibliothèques pour le TFT\n",
        "import torch\n",
        "import pytorch_lightning as pl\n",
        "from pytorch_lightning.callbacks import EarlyStopping\n",
        "from pytorch_forecasting import TimeSeriesDataSet, TemporalFusionTransformer\n",
        "from pytorch_forecasting.data import GroupNormalizer\n",
        "from pytorch_forecasting.metrics import QuantileLoss\n",
        "import pandas_ta as ta\n",
        "\n",
        "# Bibliothèques pour l'agent RL\n",
        "import gymnasium as gym\n",
        "from gymnasium import spaces\n",
        "from stable_baselines3 import DQN"
      ]
    },
    {
      "cell_type": "markdown",
      "metadata": {},
      "source": [
        "\n",
        "\n",
        "# ==============================================================================\n",
        "# PARTIE 1 : CHARGEMENT ET INGÉNIERIE DES CARACTÉRISTIQUES (FEATURES)\n",
        "# =============================================================================="
      ]
    },
    {
      "cell_type": "code",
      "execution_count": 13,
      "metadata": {},
      "outputs": [
        {
          "name": "stdout",
          "output_type": "stream",
          "text": [
            "\n",
            "--- PARTIE 1 : Chargement et enrichissement des données ---\n",
            "Données enrichies et nettoyées chargées pour 12 tickers.\n",
            "Exemple de colonnes après nettoyage: ['Ticker', 'Open', 'High', 'Low', 'Close', 'Adj Close', 'Volume', 'SMA_20', 'RSI_14', 'BBL_20_2_0_2_0', 'BBM_20_2_0_2_0', 'BBU_20_2_0_2_0', 'BBB_20_2_0_2_0', 'BBP_20_2_0_2_0', 'day_of_week', 'month', 'year']\n"
          ]
        },
        {
          "name": "stderr",
          "output_type": "stream",
          "text": [
            "C:\\Users\\anase\\AppData\\Local\\Temp\\ipykernel_19540\\3087193200.py:32: FutureWarning: DataFrame.fillna with 'method' is deprecated and will raise in a future version. Use obj.ffill() or obj.bfill() instead.\n",
            "  df_ticker.fillna(method='bfill', inplace=True)\n",
            "C:\\Users\\anase\\AppData\\Local\\Temp\\ipykernel_19540\\3087193200.py:32: FutureWarning: DataFrame.fillna with 'method' is deprecated and will raise in a future version. Use obj.ffill() or obj.bfill() instead.\n",
            "  df_ticker.fillna(method='bfill', inplace=True)\n",
            "C:\\Users\\anase\\AppData\\Local\\Temp\\ipykernel_19540\\3087193200.py:32: FutureWarning: DataFrame.fillna with 'method' is deprecated and will raise in a future version. Use obj.ffill() or obj.bfill() instead.\n",
            "  df_ticker.fillna(method='bfill', inplace=True)\n",
            "C:\\Users\\anase\\AppData\\Local\\Temp\\ipykernel_19540\\3087193200.py:32: FutureWarning: DataFrame.fillna with 'method' is deprecated and will raise in a future version. Use obj.ffill() or obj.bfill() instead.\n",
            "  df_ticker.fillna(method='bfill', inplace=True)\n",
            "C:\\Users\\anase\\AppData\\Local\\Temp\\ipykernel_19540\\3087193200.py:32: FutureWarning: DataFrame.fillna with 'method' is deprecated and will raise in a future version. Use obj.ffill() or obj.bfill() instead.\n",
            "  df_ticker.fillna(method='bfill', inplace=True)\n",
            "C:\\Users\\anase\\AppData\\Local\\Temp\\ipykernel_19540\\3087193200.py:32: FutureWarning: DataFrame.fillna with 'method' is deprecated and will raise in a future version. Use obj.ffill() or obj.bfill() instead.\n",
            "  df_ticker.fillna(method='bfill', inplace=True)\n",
            "C:\\Users\\anase\\AppData\\Local\\Temp\\ipykernel_19540\\3087193200.py:32: FutureWarning: DataFrame.fillna with 'method' is deprecated and will raise in a future version. Use obj.ffill() or obj.bfill() instead.\n",
            "  df_ticker.fillna(method='bfill', inplace=True)\n",
            "C:\\Users\\anase\\AppData\\Local\\Temp\\ipykernel_19540\\3087193200.py:32: FutureWarning: DataFrame.fillna with 'method' is deprecated and will raise in a future version. Use obj.ffill() or obj.bfill() instead.\n",
            "  df_ticker.fillna(method='bfill', inplace=True)\n",
            "C:\\Users\\anase\\AppData\\Local\\Temp\\ipykernel_19540\\3087193200.py:32: FutureWarning: DataFrame.fillna with 'method' is deprecated and will raise in a future version. Use obj.ffill() or obj.bfill() instead.\n",
            "  df_ticker.fillna(method='bfill', inplace=True)\n",
            "C:\\Users\\anase\\AppData\\Local\\Temp\\ipykernel_19540\\3087193200.py:32: FutureWarning: DataFrame.fillna with 'method' is deprecated and will raise in a future version. Use obj.ffill() or obj.bfill() instead.\n",
            "  df_ticker.fillna(method='bfill', inplace=True)\n",
            "C:\\Users\\anase\\AppData\\Local\\Temp\\ipykernel_19540\\3087193200.py:32: FutureWarning: DataFrame.fillna with 'method' is deprecated and will raise in a future version. Use obj.ffill() or obj.bfill() instead.\n",
            "  df_ticker.fillna(method='bfill', inplace=True)\n",
            "C:\\Users\\anase\\AppData\\Local\\Temp\\ipykernel_19540\\3087193200.py:32: FutureWarning: DataFrame.fillna with 'method' is deprecated and will raise in a future version. Use obj.ffill() or obj.bfill() instead.\n",
            "  df_ticker.fillna(method='bfill', inplace=True)\n"
          ]
        }
      ],
      "source": [
        "print(\"\\n--- PARTIE 1 : Chargement et enrichissement des données ---\")\n",
        "\n",
        "# --- 1.1 Chargement des fichiers ---\n",
        "folder_path = 'Global Stock Market (2008-2023)/*.csv'\n",
        "all_files = glob.glob(folder_path)\n",
        "df_list = [pd.read_csv(filename) for filename in all_files]\n",
        "df_full = pd.concat(df_list, ignore_index=True)\n",
        "\n",
        "# --- 1.2 Ajout des indicateurs et nettoyage des noms de colonnes ---\n",
        "data_by_ticker_featured = {}\n",
        "tickers_to_use = df_full['Ticker'].unique()\n",
        "\n",
        "for ticker in tickers_to_use:\n",
        "    df_ticker = df_full[df_full['Ticker'] == ticker].copy()\n",
        "    if len(df_ticker) < 252: # S'assurer d'avoir au moins 1 an de données\n",
        "        continue\n",
        "    \n",
        "    df_ticker['Date'] = pd.to_datetime(df_ticker['Date'])\n",
        "    df_ticker.sort_values('Date', inplace=True)\n",
        "    df_ticker.set_index('Date', inplace=True)\n",
        "    \n",
        "    # Ajout des indicateurs techniques\n",
        "    df_ticker.ta.sma(length=20, append=True)\n",
        "    df_ticker.ta.rsi(length=14, append=True)\n",
        "    df_ticker.ta.bbands(length=20, append=True)\n",
        "    \n",
        "    # Caractéristiques temporelles\n",
        "    df_ticker['day_of_week'] = df_ticker.index.dayofweek\n",
        "    df_ticker['month'] = df_ticker.index.month\n",
        "    df_ticker['year'] = df_ticker.index.year\n",
        "    \n",
        "    df_ticker.fillna(method='bfill', inplace=True)\n",
        "    \n",
        "    # === CORRECTION CRUCIALE ===\n",
        "    # Nettoyer les noms de colonnes pour enlever les points '.'\n",
        "    df_ticker.columns = [col.replace('.', '_') for col in df_ticker.columns]\n",
        "    \n",
        "    data_by_ticker_featured[ticker] = df_ticker\n",
        "\n",
        "print(f\"Données enrichies et nettoyées chargées pour {len(data_by_ticker_featured)} tickers.\")\n",
        "print(\"Exemple de colonnes après nettoyage:\", next(iter(data_by_ticker_featured.values())).columns.tolist())"
      ]
    },
    {
      "cell_type": "markdown",
      "metadata": {},
      "source": [
        "# ==============================================================================\n",
        "# PARTIE 2 : PRÉDICTION AVEC LE TEMPORAL FUSION TRANSFORMER (TFT)\n",
        "# =============================================================================="
      ]
    },
    {
      "cell_type": "code",
      "execution_count": 14,
      "metadata": {},
      "outputs": [
        {
          "name": "stdout",
          "output_type": "stream",
          "text": [
            "\n",
            "--- PARTIE 2 : Prédiction avec le Temporal Fusion Transformer (TFT) ---\n",
            "Formatage des données pour le TFT...\n"
          ]
        },
        {
          "ename": "KeyError",
          "evalue": "\"None of [Index(['BBL_20_2_0'], dtype='object')] are in the [columns]\"",
          "output_type": "error",
          "traceback": [
            "\u001b[31m---------------------------------------------------------------------------\u001b[39m",
            "\u001b[31mKeyError\u001b[39m                                  Traceback (most recent call last)",
            "\u001b[36mCell\u001b[39m\u001b[36m \u001b[39m\u001b[32mIn[14]\u001b[39m\u001b[32m, line 18\u001b[39m\n\u001b[32m     15\u001b[39m max_prediction_length = \u001b[32m1\u001b[39m\n\u001b[32m     16\u001b[39m training_cutoff = df_for_tft[\u001b[33m'\u001b[39m\u001b[33mtime_idx\u001b[39m\u001b[33m'\u001b[39m].max() - \u001b[32m252\u001b[39m\n\u001b[32m---> \u001b[39m\u001b[32m18\u001b[39m training_data = \u001b[43mTimeSeriesDataSet\u001b[49m\u001b[43m(\u001b[49m\n\u001b[32m     19\u001b[39m \u001b[43m    \u001b[49m\u001b[43mdf_for_tft\u001b[49m\u001b[43m[\u001b[49m\u001b[38;5;28;43;01mlambda\u001b[39;49;00m\u001b[43m \u001b[49m\u001b[43mx\u001b[49m\u001b[43m:\u001b[49m\u001b[43m \u001b[49m\u001b[43mx\u001b[49m\u001b[43m.\u001b[49m\u001b[43mtime_idx\u001b[49m\u001b[43m \u001b[49m\u001b[43m<\u001b[49m\u001b[43m=\u001b[49m\u001b[43m \u001b[49m\u001b[43mtraining_cutoff\u001b[49m\u001b[43m]\u001b[49m\u001b[43m,\u001b[49m\n\u001b[32m     20\u001b[39m \u001b[43m    \u001b[49m\u001b[43mtime_idx\u001b[49m\u001b[43m=\u001b[49m\u001b[33;43m\"\u001b[39;49m\u001b[33;43mtime_idx\u001b[39;49m\u001b[33;43m\"\u001b[39;49m\u001b[43m,\u001b[49m\n\u001b[32m     21\u001b[39m \u001b[43m    \u001b[49m\u001b[43mtarget\u001b[49m\u001b[43m=\u001b[49m\u001b[33;43m\"\u001b[39;49m\u001b[33;43mClose\u001b[39;49m\u001b[33;43m\"\u001b[39;49m\u001b[43m,\u001b[49m\n\u001b[32m     22\u001b[39m \u001b[43m    \u001b[49m\u001b[43mgroup_ids\u001b[49m\u001b[43m=\u001b[49m\u001b[43m[\u001b[49m\u001b[33;43m\"\u001b[39;49m\u001b[33;43mgroup\u001b[39;49m\u001b[33;43m\"\u001b[39;49m\u001b[43m]\u001b[49m\u001b[43m,\u001b[49m\n\u001b[32m     23\u001b[39m \u001b[43m    \u001b[49m\u001b[43mmax_encoder_length\u001b[49m\u001b[43m=\u001b[49m\u001b[43mmax_encoder_length\u001b[49m\u001b[43m,\u001b[49m\n\u001b[32m     24\u001b[39m \u001b[43m    \u001b[49m\u001b[43mmax_prediction_length\u001b[49m\u001b[43m=\u001b[49m\u001b[43mmax_prediction_length\u001b[49m\u001b[43m,\u001b[49m\n\u001b[32m     25\u001b[39m \u001b[43m    \u001b[49m\u001b[43mstatic_categoricals\u001b[49m\u001b[43m=\u001b[49m\u001b[43m[\u001b[49m\u001b[33;43m\"\u001b[39;49m\u001b[33;43mgroup\u001b[39;49m\u001b[33;43m\"\u001b[39;49m\u001b[43m]\u001b[49m\u001b[43m,\u001b[49m\n\u001b[32m     26\u001b[39m \u001b[43m    \u001b[49m\u001b[43mtime_varying_known_reals\u001b[49m\u001b[43m=\u001b[49m\u001b[43m[\u001b[49m\u001b[33;43m\"\u001b[39;49m\u001b[33;43mtime_idx\u001b[39;49m\u001b[33;43m\"\u001b[39;49m\u001b[43m,\u001b[49m\u001b[43m \u001b[49m\u001b[33;43m\"\u001b[39;49m\u001b[33;43mday_of_week\u001b[39;49m\u001b[33;43m\"\u001b[39;49m\u001b[43m,\u001b[49m\u001b[43m \u001b[49m\u001b[33;43m\"\u001b[39;49m\u001b[33;43mmonth\u001b[39;49m\u001b[33;43m\"\u001b[39;49m\u001b[43m,\u001b[49m\u001b[43m \u001b[49m\u001b[33;43m\"\u001b[39;49m\u001b[33;43myear\u001b[39;49m\u001b[33;43m\"\u001b[39;49m\u001b[43m]\u001b[49m\u001b[43m,\u001b[49m\n\u001b[32m     27\u001b[39m \u001b[43m    \u001b[49m\u001b[38;5;66;43;03m# === CORRECTION CRUCIALE ===\u001b[39;49;00m\n\u001b[32m     28\u001b[39m \u001b[43m    \u001b[49m\u001b[38;5;66;43;03m# Utiliser les noms de colonnes nettoyés (sans le '.0')\u001b[39;49;00m\n\u001b[32m     29\u001b[39m \u001b[43m    \u001b[49m\u001b[43mtime_varying_unknown_reals\u001b[49m\u001b[43m=\u001b[49m\u001b[43m[\u001b[49m\n\u001b[32m     30\u001b[39m \u001b[43m        \u001b[49m\u001b[33;43m'\u001b[39;49m\u001b[33;43mOpen\u001b[39;49m\u001b[33;43m'\u001b[39;49m\u001b[43m,\u001b[49m\u001b[43m \u001b[49m\u001b[33;43m'\u001b[39;49m\u001b[33;43mHigh\u001b[39;49m\u001b[33;43m'\u001b[39;49m\u001b[43m,\u001b[49m\u001b[43m \u001b[49m\u001b[33;43m'\u001b[39;49m\u001b[33;43mLow\u001b[39;49m\u001b[33;43m'\u001b[39;49m\u001b[43m,\u001b[49m\u001b[43m \u001b[49m\u001b[33;43m'\u001b[39;49m\u001b[33;43mVolume\u001b[39;49m\u001b[33;43m'\u001b[39;49m\u001b[43m,\u001b[49m\u001b[43m \u001b[49m\u001b[33;43m'\u001b[39;49m\u001b[33;43mSMA_20\u001b[39;49m\u001b[33;43m'\u001b[39;49m\u001b[43m,\u001b[49m\u001b[43m \u001b[49m\u001b[33;43m'\u001b[39;49m\u001b[33;43mRSI_14\u001b[39;49m\u001b[33;43m'\u001b[39;49m\u001b[43m,\u001b[49m\n\u001b[32m     31\u001b[39m \u001b[43m        \u001b[49m\u001b[33;43m'\u001b[39;49m\u001b[33;43mBBL_20_2_0\u001b[39;49m\u001b[33;43m'\u001b[39;49m\u001b[43m,\u001b[49m\u001b[43m \u001b[49m\u001b[33;43m'\u001b[39;49m\u001b[33;43mBBM_20_2_0\u001b[39;49m\u001b[33;43m'\u001b[39;49m\u001b[43m,\u001b[49m\u001b[43m \u001b[49m\u001b[33;43m'\u001b[39;49m\u001b[33;43mBBU_20_2_0\u001b[39;49m\u001b[33;43m'\u001b[39;49m\u001b[43m,\u001b[49m\u001b[43m \u001b[49m\u001b[33;43m'\u001b[39;49m\u001b[33;43mBBB_20_2_0\u001b[39;49m\u001b[33;43m'\u001b[39;49m\u001b[43m,\u001b[49m\u001b[43m \u001b[49m\u001b[33;43m'\u001b[39;49m\u001b[33;43mBBP_20_2_0\u001b[39;49m\u001b[33;43m'\u001b[39;49m\n\u001b[32m     32\u001b[39m \u001b[43m    \u001b[49m\u001b[43m]\u001b[49m\u001b[43m,\u001b[49m\n\u001b[32m     33\u001b[39m \u001b[43m    \u001b[49m\u001b[43mtarget_normalizer\u001b[49m\u001b[43m=\u001b[49m\u001b[43mGroupNormalizer\u001b[49m\u001b[43m(\u001b[49m\u001b[43mgroups\u001b[49m\u001b[43m=\u001b[49m\u001b[43m[\u001b[49m\u001b[33;43m\"\u001b[39;49m\u001b[33;43mgroup\u001b[39;49m\u001b[33;43m\"\u001b[39;49m\u001b[43m]\u001b[49m\u001b[43m,\u001b[49m\u001b[43m \u001b[49m\u001b[43mtransformation\u001b[49m\u001b[43m=\u001b[49m\u001b[33;43m\"\u001b[39;49m\u001b[33;43msoftplus\u001b[39;49m\u001b[33;43m\"\u001b[39;49m\u001b[43m)\u001b[49m\u001b[43m,\u001b[49m\n\u001b[32m     34\u001b[39m \u001b[43m    \u001b[49m\u001b[43madd_relative_time_idx\u001b[49m\u001b[43m=\u001b[49m\u001b[38;5;28;43;01mTrue\u001b[39;49;00m\u001b[43m,\u001b[49m\u001b[43m \u001b[49m\u001b[43madd_target_scales\u001b[49m\u001b[43m=\u001b[49m\u001b[38;5;28;43;01mTrue\u001b[39;49;00m\u001b[43m,\u001b[49m\u001b[43m \u001b[49m\u001b[43madd_encoder_length\u001b[49m\u001b[43m=\u001b[49m\u001b[38;5;28;43;01mTrue\u001b[39;49;00m\u001b[43m,\u001b[49m\n\u001b[32m     35\u001b[39m \u001b[43m)\u001b[49m\n\u001b[32m     37\u001b[39m validation_data = TimeSeriesDataSet.from_dataset(training_data, df_for_tft, predict=\u001b[38;5;28;01mTrue\u001b[39;00m, stop_randomization=\u001b[38;5;28;01mTrue\u001b[39;00m)\n\u001b[32m     38\u001b[39m train_dataloader = training_data.to_dataloader(train=\u001b[38;5;28;01mTrue\u001b[39;00m, batch_size=\u001b[32m128\u001b[39m, num_workers=\u001b[32m0\u001b[39m)\n",
            "\u001b[36mFile \u001b[39m\u001b[32mc:\\Users\\anase\\Documents\\Master\\Intelligence Artificelle Machine Learning\\TP\\bourse\\.venv\\Lib\\site-packages\\pytorch_forecasting\\data\\timeseries\\_timeseries.py:635\u001b[39m, in \u001b[36mTimeSeriesDataSet.__init__\u001b[39m\u001b[34m(self, data, time_idx, target, group_ids, weight, max_encoder_length, min_encoder_length, min_prediction_idx, min_prediction_length, max_prediction_length, static_categoricals, static_reals, time_varying_known_categoricals, time_varying_known_reals, time_varying_unknown_categoricals, time_varying_unknown_reals, variable_groups, constant_fill_strategy, allow_missing_timesteps, lags, add_relative_time_idx, add_target_scales, add_encoder_length, target_normalizer, categorical_encoders, scalers, randomize_length, predict_mode)\u001b[39m\n\u001b[32m    632\u001b[39m data = data.sort_values(\u001b[38;5;28mself\u001b[39m.group_ids + [\u001b[38;5;28mself\u001b[39m.time_idx])\n\u001b[32m    634\u001b[39m \u001b[38;5;66;03m# preprocess data\u001b[39;00m\n\u001b[32m--> \u001b[39m\u001b[32m635\u001b[39m data = \u001b[38;5;28;43mself\u001b[39;49m\u001b[43m.\u001b[49m\u001b[43m_preprocess_data\u001b[49m\u001b[43m(\u001b[49m\u001b[43mdata\u001b[49m\u001b[43m)\u001b[49m\n\u001b[32m    637\u001b[39m msg = \u001b[33m\"\u001b[39m\u001b[33mTarget normalizer is separate and not in scalers.\u001b[39m\u001b[33m\"\u001b[39m\n\u001b[32m    638\u001b[39m \u001b[38;5;28;01mfor\u001b[39;00m target \u001b[38;5;129;01min\u001b[39;00m \u001b[38;5;28mself\u001b[39m.target_names:\n",
            "\u001b[36mFile \u001b[39m\u001b[32mc:\\Users\\anase\\Documents\\Master\\Intelligence Artificelle Machine Learning\\TP\\bourse\\.venv\\Lib\\site-packages\\pytorch_forecasting\\data\\timeseries\\_timeseries.py:1263\u001b[39m, in \u001b[36mTimeSeriesDataSet._preprocess_data\u001b[39m\u001b[34m(self, data)\u001b[39m\n\u001b[32m   1261\u001b[39m     \u001b[38;5;28;01mcontinue\u001b[39;00m\n\u001b[32m   1262\u001b[39m \u001b[38;5;28;01melif\u001b[39;00m name \u001b[38;5;129;01mnot\u001b[39;00m \u001b[38;5;129;01min\u001b[39;00m \u001b[38;5;28mself\u001b[39m._scalers:\n\u001b[32m-> \u001b[39m\u001b[32m1263\u001b[39m     \u001b[38;5;28mself\u001b[39m._scalers[name] = StandardScaler().fit(\u001b[43mdata\u001b[49m\u001b[43m[\u001b[49m\u001b[43m[\u001b[49m\u001b[43mname\u001b[49m\u001b[43m]\u001b[49m\u001b[43m]\u001b[49m)\n\u001b[32m   1264\u001b[39m \u001b[38;5;28;01melif\u001b[39;00m \u001b[38;5;28mself\u001b[39m._scalers[name] \u001b[38;5;129;01mis\u001b[39;00m \u001b[38;5;129;01mnot\u001b[39;00m \u001b[38;5;28;01mNone\u001b[39;00m:\n\u001b[32m   1265\u001b[39m     \u001b[38;5;28;01mtry\u001b[39;00m:\n",
            "\u001b[36mFile \u001b[39m\u001b[32mc:\\Users\\anase\\Documents\\Master\\Intelligence Artificelle Machine Learning\\TP\\bourse\\.venv\\Lib\\site-packages\\pandas\\core\\frame.py:4119\u001b[39m, in \u001b[36mDataFrame.__getitem__\u001b[39m\u001b[34m(self, key)\u001b[39m\n\u001b[32m   4117\u001b[39m     \u001b[38;5;28;01mif\u001b[39;00m is_iterator(key):\n\u001b[32m   4118\u001b[39m         key = \u001b[38;5;28mlist\u001b[39m(key)\n\u001b[32m-> \u001b[39m\u001b[32m4119\u001b[39m     indexer = \u001b[38;5;28;43mself\u001b[39;49m\u001b[43m.\u001b[49m\u001b[43mcolumns\u001b[49m\u001b[43m.\u001b[49m\u001b[43m_get_indexer_strict\u001b[49m\u001b[43m(\u001b[49m\u001b[43mkey\u001b[49m\u001b[43m,\u001b[49m\u001b[43m \u001b[49m\u001b[33;43m\"\u001b[39;49m\u001b[33;43mcolumns\u001b[39;49m\u001b[33;43m\"\u001b[39;49m\u001b[43m)\u001b[49m[\u001b[32m1\u001b[39m]\n\u001b[32m   4121\u001b[39m \u001b[38;5;66;03m# take() does not accept boolean indexers\u001b[39;00m\n\u001b[32m   4122\u001b[39m \u001b[38;5;28;01mif\u001b[39;00m \u001b[38;5;28mgetattr\u001b[39m(indexer, \u001b[33m\"\u001b[39m\u001b[33mdtype\u001b[39m\u001b[33m\"\u001b[39m, \u001b[38;5;28;01mNone\u001b[39;00m) == \u001b[38;5;28mbool\u001b[39m:\n",
            "\u001b[36mFile \u001b[39m\u001b[32mc:\\Users\\anase\\Documents\\Master\\Intelligence Artificelle Machine Learning\\TP\\bourse\\.venv\\Lib\\site-packages\\pandas\\core\\indexes\\base.py:6212\u001b[39m, in \u001b[36mIndex._get_indexer_strict\u001b[39m\u001b[34m(self, key, axis_name)\u001b[39m\n\u001b[32m   6209\u001b[39m \u001b[38;5;28;01melse\u001b[39;00m:\n\u001b[32m   6210\u001b[39m     keyarr, indexer, new_indexer = \u001b[38;5;28mself\u001b[39m._reindex_non_unique(keyarr)\n\u001b[32m-> \u001b[39m\u001b[32m6212\u001b[39m \u001b[38;5;28;43mself\u001b[39;49m\u001b[43m.\u001b[49m\u001b[43m_raise_if_missing\u001b[49m\u001b[43m(\u001b[49m\u001b[43mkeyarr\u001b[49m\u001b[43m,\u001b[49m\u001b[43m \u001b[49m\u001b[43mindexer\u001b[49m\u001b[43m,\u001b[49m\u001b[43m \u001b[49m\u001b[43maxis_name\u001b[49m\u001b[43m)\u001b[49m\n\u001b[32m   6214\u001b[39m keyarr = \u001b[38;5;28mself\u001b[39m.take(indexer)\n\u001b[32m   6215\u001b[39m \u001b[38;5;28;01mif\u001b[39;00m \u001b[38;5;28misinstance\u001b[39m(key, Index):\n\u001b[32m   6216\u001b[39m     \u001b[38;5;66;03m# GH 42790 - Preserve name from an Index\u001b[39;00m\n",
            "\u001b[36mFile \u001b[39m\u001b[32mc:\\Users\\anase\\Documents\\Master\\Intelligence Artificelle Machine Learning\\TP\\bourse\\.venv\\Lib\\site-packages\\pandas\\core\\indexes\\base.py:6261\u001b[39m, in \u001b[36mIndex._raise_if_missing\u001b[39m\u001b[34m(self, key, indexer, axis_name)\u001b[39m\n\u001b[32m   6259\u001b[39m \u001b[38;5;28;01mif\u001b[39;00m nmissing:\n\u001b[32m   6260\u001b[39m     \u001b[38;5;28;01mif\u001b[39;00m nmissing == \u001b[38;5;28mlen\u001b[39m(indexer):\n\u001b[32m-> \u001b[39m\u001b[32m6261\u001b[39m         \u001b[38;5;28;01mraise\u001b[39;00m \u001b[38;5;167;01mKeyError\u001b[39;00m(\u001b[33mf\u001b[39m\u001b[33m\"\u001b[39m\u001b[33mNone of [\u001b[39m\u001b[38;5;132;01m{\u001b[39;00mkey\u001b[38;5;132;01m}\u001b[39;00m\u001b[33m] are in the [\u001b[39m\u001b[38;5;132;01m{\u001b[39;00maxis_name\u001b[38;5;132;01m}\u001b[39;00m\u001b[33m]\u001b[39m\u001b[33m\"\u001b[39m)\n\u001b[32m   6263\u001b[39m     not_found = \u001b[38;5;28mlist\u001b[39m(ensure_index(key)[missing_mask.nonzero()[\u001b[32m0\u001b[39m]].unique())\n\u001b[32m   6264\u001b[39m     \u001b[38;5;28;01mraise\u001b[39;00m \u001b[38;5;167;01mKeyError\u001b[39;00m(\u001b[33mf\u001b[39m\u001b[33m\"\u001b[39m\u001b[38;5;132;01m{\u001b[39;00mnot_found\u001b[38;5;132;01m}\u001b[39;00m\u001b[33m not in index\u001b[39m\u001b[33m\"\u001b[39m)\n",
            "\u001b[31mKeyError\u001b[39m: \"None of [Index(['BBL_20_2_0'], dtype='object')] are in the [columns]\""
          ]
        }
      ],
      "source": [
        "print(\"\\n--- PARTIE 2 : Prédiction avec le Temporal Fusion Transformer (TFT) ---\")\n",
        "\n",
        "# --- 2.1 Formatage global des données pour Pytorch Forecasting ---\n",
        "print(\"Formatage des données pour le TFT...\")\n",
        "all_featured_dfs = []\n",
        "for ticker, df_feat in data_by_ticker_featured.items():\n",
        "    df_temp = df_feat.reset_index().copy()\n",
        "    df_temp['group'] = ticker\n",
        "    all_featured_dfs.append(df_temp)\n",
        "df_for_tft = pd.concat(all_featured_dfs, ignore_index=True)\n",
        "df_for_tft['time_idx'] = df_for_tft.groupby('group').cumcount()\n",
        "\n",
        "# --- 2.2 Création du TimeSeriesDataSet ---\n",
        "max_encoder_length = 60\n",
        "max_prediction_length = 1\n",
        "training_cutoff = df_for_tft['time_idx'].max() - 252\n",
        "\n",
        "training_data = TimeSeriesDataSet(\n",
        "    df_for_tft[lambda x: x.time_idx <= training_cutoff],\n",
        "    time_idx=\"time_idx\",\n",
        "    target=\"Close\",\n",
        "    group_ids=[\"group\"],\n",
        "    max_encoder_length=max_encoder_length,\n",
        "    max_prediction_length=max_prediction_length,\n",
        "    static_categoricals=[\"group\"],\n",
        "    time_varying_known_reals=[\"time_idx\", \"day_of_week\", \"month\", \"year\"],\n",
        "    # === CORRECTION CRUCIALE ===\n",
        "    # Utiliser les noms de colonnes nettoyés (sans le '.0')\n",
        "    time_varying_unknown_reals=[\n",
        "        'Open', 'High', 'Low', 'Volume', 'SMA_20', 'RSI_14',\n",
        "        'BBL_20_2_0', 'BBM_20_2_0', 'BBU_20_2_0', 'BBB_20_2_0', 'BBP_20_2_0'\n",
        "    ],\n",
        "    target_normalizer=GroupNormalizer(groups=[\"group\"], transformation=\"softplus\"),\n",
        "    add_relative_time_idx=True, add_target_scales=True, add_encoder_length=True,\n",
        ")\n",
        "\n",
        "validation_data = TimeSeriesDataSet.from_dataset(training_data, df_for_tft, predict=True, stop_randomization=True)\n",
        "train_dataloader = training_data.to_dataloader(train=True, batch_size=128, num_workers=0)\n",
        "val_dataloader = validation_data.to_dataloader(train=False, batch_size=256, num_workers=0)\n",
        "\n",
        "# --- 2.3 Entraînement du modèle TFT ---\n",
        "# (Cette partie reste la même)\n",
        "print(\"Entraînement du modèle TFT...\")\n",
        "pl.seed_everything(42)\n",
        "early_stop_callback = EarlyStopping(monitor=\"val_loss\", min_delta=1e-4, patience=5, verbose=False, mode=\"min\")\n",
        "trainer = pl.Trainer(max_epochs=20, accelerator=\"auto\", gradient_clip_val=0.1, limit_train_batches=30, callbacks=[early_stop_callback])\n",
        "tft = TemporalFusionTransformer.from_dataset(training_data, learning_rate=0.03, hidden_size=32, attention_head_size=2, dropout=0.1, hidden_continuous_size=16, loss=QuantileLoss(), optimizer=\"Ranger\")\n",
        "trainer.fit(tft, train_dataloaders=train_dataloader, val_dataloaders=val_dataloader)\n",
        "\n",
        "# --- 2.4 Génération des prédictions ---\n",
        "# (Cette partie reste la même)\n",
        "print(\"Génération des prédictions du TFT pour tout le dataset...\")\n",
        "best_model_path = trainer.checkpoint_callback.best_model_path\n",
        "best_tft = TemporalFusionTransformer.load_from_checkpoint(best_model_path)\n",
        "raw_predictions, x = best_tft.predict(val_dataloader, mode=\"raw\", return_x=True)\n",
        "predictions = raw_predictions[\"prediction\"][:, :, 3].numpy().flatten()\n",
        "\n",
        "predictions_df = pd.DataFrame({'tft_prediction': predictions, 'group': x['group_ids'].flatten(), 'time_idx': x['decoder_time_idx'].flatten()})\n",
        "df_final_with_preds = pd.merge(df_for_tft, predictions_df, on=['group', 'time_idx'], how='left')\n",
        "df_final_with_preds['tft_prediction'] = df_final_with_preds.groupby('group')['tft_prediction'].transform(lambda x: x.bfill().ffill())\n",
        "df_final_with_preds.dropna(inplace=True)\n",
        "\n",
        "# --- Création du dictionnaire final pour l'agent RL ---\n",
        "# Cette variable sera utilisée plus tard, ce qui résout la NameError\n",
        "data_by_ticker_final = {}\n",
        "for ticker in df_final_with_preds['group'].unique():\n",
        "    df_ticker = df_final_with_preds[df_final_with_preds['group'] == ticker].copy()\n",
        "    df_ticker.set_index('Date', inplace=True)\n",
        "    data_by_ticker_final[ticker] = df_ticker\n",
        "\n",
        "print(\"Aperçu du DataFrame final enrichi pour un ticker :\")\n",
        "print(next(iter(data_by_ticker_final.values())).head())"
      ]
    },
    {
      "cell_type": "markdown",
      "metadata": {},
      "source": [
        "# ==============================================================================\n",
        "# PARTIE 3 : APPRENTISSAGE PAR RENFORCEMENT AVEC DQN\n",
        "# =============================================================================="
      ]
    },
    {
      "cell_type": "code",
      "execution_count": null,
      "metadata": {},
      "outputs": [],
      "source": [
        "print(\"\\n--- PARTIE 3 : Définition de l'environnement et entraînement du DQN ---\")\n",
        "\n",
        "# --- 3.1 Environnement de Trading ---\n",
        "class MultiStockTradingEnv(gym.Env):\n",
        "    def __init__(self, data_dict, initial_balance=10_000):\n",
        "        super().__init__()\n",
        "        self.data_dict = data_dict\n",
        "        self.tickers = list(data_dict.keys())\n",
        "        self.initial_balance = initial_balance\n",
        "        self.action_space = spaces.Discrete(4)\n",
        "\n",
        "        sample_data = next(iter(self.data_dict.values()))\n",
        "        self.observation_space = spaces.Box(low=-np.inf, high=np.inf, shape=(len(sample_data.columns) + 2,), dtype=np.float32)\n",
        "\n",
        "    def _select_new_stock(self):\n",
        "        self.current_ticker = random.choice(self.tickers)\n",
        "        self.data = self.data_dict[self.current_ticker].reset_index(drop=True)\n",
        "\n",
        "    def reset(self, seed=None):\n",
        "        super().reset(seed=seed)\n",
        "        self._select_new_stock()\n",
        "        self.balance = self.initial_balance\n",
        "        self.shares_held = 0\n",
        "        self.borrowed_balance = 0\n",
        "        self.net_worth = self.initial_balance\n",
        "        self.current_step = 0\n",
        "        return self._get_observation(), {}\n",
        "\n",
        "    def _get_observation(self):\n",
        "        obs_features = self.data.iloc[self.current_step].values\n",
        "        obs = np.concatenate([obs_features, [self.balance], [self.shares_held]]).astype(np.float32)\n",
        "        obs[np.isinf(obs) | np.isnan(obs)] = 0\n",
        "        return obs\n",
        "\n",
        "    def step(self, action):\n",
        "        previous_net_worth = self.net_worth\n",
        "        current_price = self.data['Close'].iloc[self.current_step]\n",
        "        leverage_factor = 2.0\n",
        "\n",
        "        if action == 1 and self.balance > current_price: # Buy\n",
        "            self.shares_held += 1; self.balance -= current_price\n",
        "        elif action == 2 and self.shares_held > 0: # Sell\n",
        "            self.shares_held -= 1; money_from_sale = current_price\n",
        "            if self.borrowed_balance > 0:\n",
        "                repayment = min(money_from_sale, self.borrowed_balance)\n",
        "                self.borrowed_balance -= repayment\n",
        "                self.balance += (money_from_sale - repayment)\n",
        "            else: self.balance += money_from_sale\n",
        "        elif action == 3 and self.balance > 0: # Leverage\n",
        "            shares_to_buy = int((self.balance * leverage_factor) // current_price)\n",
        "            if shares_to_buy > 0:\n",
        "                cost = shares_to_buy * current_price\n",
        "                self.shares_held += shares_to_buy\n",
        "                self.borrowed_balance += cost - self.balance\n",
        "                self.balance = 0\n",
        "\n",
        "        self.net_worth = (self.balance + self.shares_held * current_price) - self.borrowed_balance\n",
        "        reward = self.net_worth - previous_net_worth\n",
        "        \n",
        "        self.current_step += 1\n",
        "        done = self.current_step >= len(self.data) - 1\n",
        "        if self.net_worth <= self.initial_balance * 0.5: done = True\n",
        "            \n",
        "        return self._get_observation(), reward, done, False, {}\n",
        "\n",
        "    def render(self, mode='human'):\n",
        "        print(f'Ticker: {self.current_ticker}, Step: {self.current_step}, Net Worth: {self.net_worth:.2f}')\n",
        "\n",
        "# --- 3.2 Entraînement de l'agent DQN ---\n",
        "env_train = MultiStockTradingEnv(data_dict=data_by_ticker_final)\n",
        "model_dqn = DQN(\"MlpPolicy\", env_train, verbose=1, tensorboard_log=\"./dqn_tft_tensorboard/\")\n",
        "model_dqn.learn(total_timesteps=200_000, progress_bar=True)\n",
        "model_dqn.save(\"dqn_tft_trader\")"
      ]
    },
    {
      "cell_type": "markdown",
      "metadata": {},
      "source": [
        "\n",
        "# ==============================================================================\n",
        "# PARTIE 4 : ÉVALUATION ET BACKTESTING\n",
        "# =============================================================================="
      ]
    },
    {
      "cell_type": "code",
      "execution_count": null,
      "metadata": {},
      "outputs": [],
      "source": [
        "# ==============================================================================\n",
        "# PARTIE 4 (CORRIGÉE) : Entraînement de l'agent DQN\n",
        "# ==============================================================================\n",
        "\n",
        "print(\"\\n--- PARTIE 4 : Entraînement de l'agent DQN sur les données enrichies par le TFT ---\")\n",
        "\n",
        "# --- CORRECTION DE L'ERREUR 'NameError' ---\n",
        "# On instancie l'environnement en utilisant 'data_by_ticker_final', qui a été\n",
        "# créé à la fin de la cellule précédente.\n",
        "env_train = MultiStockTradingEnv(data_dict=data_by_ticker_final)\n",
        "\n",
        "model_dqn = DQN(\n",
        "    \"MlpPolicy\",\n",
        "    env_train,\n",
        "    verbose=1,\n",
        "    tensorboard_log=\"./dqn_tft_tensorboard/\",\n",
        "    exploration_fraction=0.5,\n",
        "    exploration_final_eps=0.05,\n",
        "    learning_rate=0.0005,\n",
        "    buffer_size=100_000\n",
        ")\n",
        "model_dqn.learn(total_timesteps=200_000, progress_bar=True)\n",
        "model_dqn.save(\"dqn_tft_trader\")"
      ]
    },
    {
      "cell_type": "code",
      "execution_count": null,
      "metadata": {},
      "outputs": [],
      "source": [
        "\n",
        "\n",
        "\n",
        "# --- Lancer TensorBoard ---\n",
        "%load_ext tensorboard\n",
        "%tensorboard --logdir ./dqn_tft_tensorboard/"
      ]
    },
    {
      "cell_type": "code",
      "execution_count": null,
      "metadata": {},
      "outputs": [],
      "source": []
    }
  ],
  "metadata": {
    "colab": {
      "provenance": []
    },
    "kernelspec": {
      "display_name": ".venv",
      "language": "python",
      "name": "python3"
    },
    "language_info": {
      "codemirror_mode": {
        "name": "ipython",
        "version": 3
      },
      "file_extension": ".py",
      "mimetype": "text/x-python",
      "name": "python",
      "nbconvert_exporter": "python",
      "pygments_lexer": "ipython3",
      "version": "3.12.10"
    },
    "widgets": {
      "application/vnd.jupyter.widget-state+json": {
        "38fdac23750447d9b3e55aad5b8430f4": {
          "model_module": "@jupyter-widgets/base",
          "model_module_version": "1.2.0",
          "model_name": "LayoutModel",
          "state": {
            "_model_module": "@jupyter-widgets/base",
            "_model_module_version": "1.2.0",
            "_model_name": "LayoutModel",
            "_view_count": null,
            "_view_module": "@jupyter-widgets/base",
            "_view_module_version": "1.2.0",
            "_view_name": "LayoutView",
            "align_content": null,
            "align_items": null,
            "align_self": null,
            "border": null,
            "bottom": null,
            "display": null,
            "flex": null,
            "flex_flow": null,
            "grid_area": null,
            "grid_auto_columns": null,
            "grid_auto_flow": null,
            "grid_auto_rows": null,
            "grid_column": null,
            "grid_gap": null,
            "grid_row": null,
            "grid_template_areas": null,
            "grid_template_columns": null,
            "grid_template_rows": null,
            "height": null,
            "justify_content": null,
            "justify_items": null,
            "left": null,
            "margin": null,
            "max_height": null,
            "max_width": null,
            "min_height": null,
            "min_width": null,
            "object_fit": null,
            "object_position": null,
            "order": null,
            "overflow": null,
            "overflow_x": null,
            "overflow_y": null,
            "padding": null,
            "right": null,
            "top": null,
            "visibility": null,
            "width": null
          }
        },
        "94a61b89b9184893a84fdad14a9c9ce5": {
          "model_module": "@jupyter-widgets/output",
          "model_module_version": "1.0.0",
          "model_name": "OutputModel",
          "state": {
            "_dom_classes": [],
            "_model_module": "@jupyter-widgets/output",
            "_model_module_version": "1.0.0",
            "_model_name": "OutputModel",
            "_view_count": null,
            "_view_module": "@jupyter-widgets/output",
            "_view_module_version": "1.0.0",
            "_view_name": "OutputView",
            "layout": "IPY_MODEL_38fdac23750447d9b3e55aad5b8430f4",
            "msg_id": "",
            "outputs": [
              {
                "data": {
                  "text/html": "<pre style=\"white-space:pre;overflow-x:auto;line-height:normal;font-family:Menlo,'DejaVu Sans Mono',consolas,'Courier New',monospace\"><span style=\"color: #800080; text-decoration-color: #800080\"> 100%</span> <span style=\"color: #f92672; text-decoration-color: #f92672\">━━━━━━━━━━━━━━━━━━━━━━━━━━━━━━━━━━━━━━━━━━━━━━━━━━━━━━━━━━╸</span> <span style=\"color: #008000; text-decoration-color: #008000\">199,945/200,000 </span> [ <span style=\"color: #808000; text-decoration-color: #808000\">0:04:56</span> &lt; <span style=\"color: #008080; text-decoration-color: #008080\">0:00:01</span> , <span style=\"color: #800000; text-decoration-color: #800000\">628 it/s</span> ]\n</pre>\n",
                  "text/plain": "\u001b[35m 100%\u001b[0m \u001b[38;2;249;38;114m━━━━━━━━━━━━━━━━━━━━━━━━━━━━━━━━━━━━━━━━━━━━━━━━━━━━━━━━━━\u001b[0m\u001b[38;2;249;38;114m╸\u001b[0m \u001b[32m199,945/200,000 \u001b[0m [ \u001b[33m0:04:56\u001b[0m < \u001b[36m0:00:01\u001b[0m , \u001b[31m628 it/s\u001b[0m ]\n"
                },
                "metadata": {},
                "output_type": "display_data"
              }
            ]
          }
        }
      }
    }
  },
  "nbformat": 4,
  "nbformat_minor": 0
}
